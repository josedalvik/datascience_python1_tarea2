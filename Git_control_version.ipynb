{
  "nbformat": 4,
  "nbformat_minor": 0,
  "metadata": {
    "colab": {
      "name": "Git-control-version.ipynb",
      "provenance": [],
      "include_colab_link": true
    },
    "kernelspec": {
      "name": "python3",
      "display_name": "Python 3"
    },
    "language_info": {
      "name": "python"
    }
  },
  "cells": [
    {
      "cell_type": "markdown",
      "metadata": {
        "id": "view-in-github",
        "colab_type": "text"
      },
      "source": [
        "<a href=\"https://colab.research.google.com/github/josedalvik/datascience_python1_tarea2/blob/main/Git_control_version.ipynb\" target=\"_parent\"><img src=\"https://colab.research.google.com/assets/colab-badge.svg\" alt=\"Open In Colab\"/></a>"
      ]
    },
    {
      "cell_type": "markdown",
      "source": [
        "**Universidad Galileo** \n",
        "\n",
        "**Maestría de Ciencia de Datos** \n",
        "\n",
        "**Curso Ciencia de datos en Python** \n",
        "\n",
        "**Jose Godoy** \n",
        "\n",
        "**Carnet 22000570** \n",
        "\n",
        "**5 de febrero 2022** "
      ],
      "metadata": {
        "id": "13PgWGArKe9K"
      }
    },
    {
      "cell_type": "markdown",
      "source": [
        "# Sistema de control de versiones\n",
        "\n",
        "Los sistemas de control de versiones sirven para tener un registro de los cambios realizados en un sistema de archivos. Sus siglas son VCS que significa Version Control Sistem. Un VCS utiliza snaphots para almacenar el estado en que se encuentran los archivos en el momento que fueron creados, también registra más metadata que ayuda a identificar al autor de los cambios.\n",
        "\n",
        "Un VCS es utilizado para poder trabajar de forma colaborativa en un proyecto de software, esto permite crear nuevas ramas o versiones de una misma aplicación para agregar nuevas funcionalidades o resolver problemas, sin modificar la versión original del proyecto. Una vez finalizados los cambios, se integran a la versión original."
      ],
      "metadata": {
        "id": "ko24s8wA7d0v"
      }
    },
    {
      "cell_type": "markdown",
      "source": [
        "# GIT\n",
        "\n",
        "GIT es un sistema de control de versiones estándar, su modelo de datos utiliza snapshots para representar el estado de los cambios realizados. Los directorios son representados como \"tree\" y los archivos como \"blob\"."
      ],
      "metadata": {
        "id": "DkHuRqRS9eJx"
      }
    },
    {
      "cell_type": "markdown",
      "source": [
        "## Pseudo código del modelo de datos de GIT\n",
        "\n",
        "En el siguiente pseudo código sirve para explicar el funcionamiento propio de Git: los archivos son representados como \"blobs\" y los directorios con una ruta y una referencia hacia otro directorio o archivo. Un commit o snapshop representa una captura de los archivos y carpetas que contiene el directorio raiz, junto a más metadata (por ejemplo, el nombre del autor).\n",
        "\n",
        "```\n",
        "// a file is a bunch of bytes\n",
        "type blob = array<byte>\n",
        "\n",
        "// a directory contains named files and directories\n",
        "type tree = map<string, tree | blob>\n",
        "\n",
        "// a commit has parents, metadata, and the top-level tree\n",
        "type commit = struct {\n",
        "    parents: array<commit>\n",
        "    author: string\n",
        "    message: string\n",
        "    snapshot: tree\n",
        "}\n",
        "```\n",
        "\n",
        "Git utiliza un objeto para almacenar un archivo, directorio o un commit:\n",
        "\n",
        "\n",
        "```\n",
        "type object = blob | tree | commit\n",
        "```\n",
        "\n",
        "Y un conjunto de objetos es un listado de objetos que identifica a cada uno de sus elementos utilizando una función hash que devuelve un valor único de acuerdo a su contenido.\n",
        "\n",
        "\n",
        "```\n",
        "objects = map<string, object>\n",
        "\n",
        "def store(object):\n",
        "    id = sha1(object)\n",
        "    objects[id] = object\n",
        "\n",
        "def load(id):\n",
        "    return objects[id]\n",
        "```\n",
        "\n",
        "Otro elemento a mencionar son las arreglos de referencias, una referencia se identifica con un nombre de lectura fácil y almacena como valor a un puntero, este es una referencia a un objeto.\n",
        "\n"
      ],
      "metadata": {
        "id": "Q7TBU57J98O0"
      }
    },
    {
      "cell_type": "markdown",
      "source": [
        "##Comandos básicos de GIT\n",
        "\n",
        "A continuación el listado de comandos básicos para utilizar Git:\n",
        "\n",
        "### Git help\n",
        "\n",
        "Sirve para obtener el listado de comandos CLI disponibles, también es posible escribir el nombre del comando para obtener información detallada.\n",
        "\n",
        "```\n",
        "git help\n",
        "git help <comando>\n",
        "```\n",
        "\n",
        "### Registrar nuestros datos\n",
        "\n",
        "Después de realizar la instalación de Git es necesario indicar que usuario lo utilizará, los siguientes comandos permiten establecer el correo electrónico y nombre del autor de cada commit:\n",
        "\n",
        "```\n",
        "git config --global user.email \"22000570@galileo.edu\"\n",
        "git config --global user.name \"Jose Godoy\"\n",
        "```\n",
        "\n",
        "\n",
        "### Crear nuevo repositorio\n",
        "\n",
        "Este comando crea un nuevo repositorio en la carpeta indicada, es el primer comando que debemos de utilizar para empezar a registrar comandos.\n",
        "\n",
        "```\n",
        "git init\n",
        "```\n",
        "\n",
        "### Agregar cambios y archivos al repositorio\n",
        "\n",
        "Una vez creado el repositorio, es necesario agregar archivos. Esto se puede  hacer especificando de forma individual cada archivo o carpeta, o es posible utilizar el símbolo * para agregar todo lo que tenemos en la carpeta:\n",
        "\n",
        "```\n",
        "git add <archivo o carpeta>\n",
        "git add *\n",
        "```\n",
        "\n",
        "### Crear un commit\n",
        "\n",
        "Una vez se han agregado los archivos al repositorio, es necesario crear un commit o snapshot del estado actual del sistema de archivos registrado, esto se hace con el siguiente comando:\n",
        "\n",
        "```\n",
        "git commit\n",
        "```\n",
        "\n",
        "\n",
        "\n"
      ],
      "metadata": {
        "id": "XDvUd2K5BBQP"
      }
    },
    {
      "cell_type": "markdown",
      "source": [
        "## Crear y unir ramas\n",
        "\n",
        "Los comandos necesarios para poder crear y unir ramas en Git son los siguientes:\n",
        "\n",
        "### Listar todas las ramas\n",
        "\n",
        "El siguiente comando listará todos los branches creados en el repositorio, indicará con el símbolo * cual es el branch con el que se está trabajando actualmente:\n",
        "\n",
        "```\n",
        "git branch\n",
        "```\n",
        "\n",
        "### Crear una rama\n",
        "\n",
        "El siguiente comando crea una nueva rama en el repositorio:\n",
        "\n",
        "```\n",
        "git branch <nombre de la nueva rama>\n",
        "```\n",
        "\n",
        "Para pasar el puntero actual a la nueva rama, se debe de utilizar el siguiente comando:\n",
        "\n",
        "```\n",
        "git checkout <nombre de la nueva rama>\n",
        "```\n",
        "\n",
        "También es posible crear la rama y pasar el puntero a la rama creada con el siguiente comando:\n",
        "\n",
        "```\n",
        "git checkout -b <nombre de la nueva rama>\n",
        "```\n",
        "\n",
        "### Unir ramas\n",
        "\n",
        "Para poder unir la rama actual con otra, se utiliza el siguiente comando:\n",
        "\n",
        "```\n",
        "git merge <rama a unir>\n",
        "```\n",
        "\n"
      ],
      "metadata": {
        "id": "zEcjMBMwDr-A"
      }
    },
    {
      "cell_type": "markdown",
      "source": [
        "##Trabajando con repositorios remotos\n",
        "\n",
        "Para trabajar colaborativamente con otras personas es necesario utilizar repositorios remotos. Estos sirven para mantener sincronizado el código de nuestro proyecto, y permitir que otras personas descarguen el repositorio, realicen cambios y mantengan sus versiones sincronizadas con el repositorio remoto.\n",
        "\n",
        "### Listar repositorios remotos\n",
        "\n",
        "El siguiente comando lista todos los repositorios remotos agregados al repositorio local:\n",
        "\n",
        "```\n",
        "git remote\n",
        "```\n",
        "\n",
        "### Agregar un repositorio remoto\n",
        "\n",
        "Este comando agrega un repositorio remoto al repositorio local. El valor ```<ruta o url>``` puede ser una ruta en otro directorio, por ejemplo ```C:\\\\SHARED-FOLDERS\\mi-repo``` o bien una dirección URL de Github.\n",
        "\n",
        "```\n",
        "git remote add <nombre> <ruta o url>\n",
        "```\n",
        "\n",
        "### Enviar los cambios de un repositorio local a uno remoto\n",
        "\n",
        "Una vez agregado el repositorio, se debe de enviar el repositorio local para que otras personas puedan acceder al proyecto, descargarlo y subir sus cambios:\n",
        "\n",
        "```\n",
        "git push <nombre de repositorio remoto> <rama local>:<rama remota>\n",
        "```\n",
        "\n",
        "### Sincronizar repositorio remoto con local\n",
        "\n",
        "Para descargar los cambios de un repositorio remoto y unirlo a la rama actual, se deben de utilizar los siguientes comandos:\n",
        "\n",
        "```\n",
        "git fetch\n",
        "git merge\n",
        "```\n",
        "\n",
        "Estos comandos utilizarán el repositorio remoto registrado en git, y lo unirán a la rama actual. El siguiente comando sirve para realizar las dos acciones de una sola vez:\n",
        "\n",
        "```\n",
        "git pull\n",
        "```\n",
        "\n",
        "\n",
        "\n",
        "\n"
      ],
      "metadata": {
        "id": "JJFoFUr-GyQ5"
      }
    },
    {
      "cell_type": "markdown",
      "source": [
        "# E-Grafía\n",
        "\n",
        "Anish, Jose, and Jon. Version Control (Git) [en línea]. 1 de febrero 2020, [5 de enero 2022]. Disponible en Web: ```<https://missing.csail.mit.edu/2020/version-control/>```."
      ],
      "metadata": {
        "id": "bJslAayCJ3FE"
      }
    }
  ]
}